{
 "cells": [
  {
   "cell_type": "code",
   "execution_count": 16,
   "metadata": {
    "_cell_guid": "b1076dfc-b9ad-4769-8c92-a6c4dae69d19",
    "_uuid": "8f2839f25d086af736a60e9eeb907d3b93b6e0e5",
    "execution": {
     "iopub.execute_input": "2021-11-10T20:03:47.658655Z",
     "iopub.status.busy": "2021-11-10T20:03:47.658329Z",
     "iopub.status.idle": "2021-11-10T20:03:47.678503Z",
     "shell.execute_reply": "2021-11-10T20:03:47.677768Z",
     "shell.execute_reply.started": "2021-11-10T20:03:47.658621Z"
    }
   },
   "outputs": [],
   "source": [
    "# This Python 3 environment comes with many helpful analytics libraries installed\n",
    "# It is defined by the kaggle/python Docker image: https://github.com/kaggle/docker-python\n",
    "# For example, here's several helpful packages to load\n",
    "\n",
    "import numpy as np # linear algebra\n",
    "import pandas as pd # data processing, CSV file I/O (e.g. pd.read_csv)\n",
    "\n",
    "# Input data files are available in the read-only \"../input/\" directory\n",
    "# For example, running this (by clicking run or pressing Shift+Enter) will list all files under the input directory\n",
    "\n",
    "import os\n",
    "for dirname, _, filenames in os.walk('/kaggle/input'):\n",
    "    for filename in filenames:\n",
    "        print(os.path.join(dirname, filename))\n",
    "\n",
    "# You can write up to 20GB to the current directory (/kaggle/working/) that gets preserved as output when you create a version using \"Save & Run All\" \n",
    "# You can also write temporary files to /kaggle/temp/, but they won't be saved outside of the current session"
   ]
  },
  {
   "cell_type": "code",
   "execution_count": 17,
   "metadata": {
    "execution": {
     "iopub.execute_input": "2021-11-10T20:03:48.598246Z",
     "iopub.status.busy": "2021-11-10T20:03:48.597973Z",
     "iopub.status.idle": "2021-11-10T20:03:48.604349Z",
     "shell.execute_reply": "2021-11-10T20:03:48.601811Z",
     "shell.execute_reply.started": "2021-11-10T20:03:48.598219Z"
    }
   },
   "outputs": [],
   "source": [
    "import numpy as np # linear algebra\n",
    "import pandas as pd # data processing, CSV file I/O (e.g. pd.read_csv)\n",
    "import seaborn as sns\n",
    "import matplotlib\n",
    "import matplotlib.pyplot as plt\n",
    "import sklearn\n",
    "from sklearn.model_selection import KFold\n",
    "from sklearn.model_selection import train_test_split"
   ]
  },
  {
   "cell_type": "code",
   "execution_count": 18,
   "metadata": {
    "execution": {
     "iopub.execute_input": "2021-11-10T20:03:49.640755Z",
     "iopub.status.busy": "2021-11-10T20:03:49.640507Z",
     "iopub.status.idle": "2021-11-10T20:03:57.963678Z",
     "shell.execute_reply": "2021-11-10T20:03:57.962836Z",
     "shell.execute_reply.started": "2021-11-10T20:03:49.640729Z"
    }
   },
   "outputs": [],
   "source": [
    "!pip install simpletransformers"
   ]
  },
  {
   "cell_type": "code",
   "execution_count": 19,
   "metadata": {
    "execution": {
     "iopub.execute_input": "2021-11-10T20:03:57.966026Z",
     "iopub.status.busy": "2021-11-10T20:03:57.965724Z",
     "iopub.status.idle": "2021-11-10T20:03:58.037465Z",
     "shell.execute_reply": "2021-11-10T20:03:58.036736Z",
     "shell.execute_reply.started": "2021-11-10T20:03:57.965973Z"
    }
   },
   "outputs": [],
   "source": [
    "train = pd.read_csv(\"/kaggle/input/nlp-getting-started/train.csv\")\n",
    "test = pd.read_csv(\"/kaggle/input/nlp-getting-started/test.csv\")"
   ]
  },
  {
   "cell_type": "code",
   "execution_count": 20,
   "metadata": {
    "execution": {
     "iopub.execute_input": "2021-11-10T20:03:58.039391Z",
     "iopub.status.busy": "2021-11-10T20:03:58.038867Z",
     "iopub.status.idle": "2021-11-10T20:03:58.047417Z",
     "shell.execute_reply": "2021-11-10T20:03:58.046667Z",
     "shell.execute_reply.started": "2021-11-10T20:03:58.039353Z"
    }
   },
   "outputs": [],
   "source": [
    "import string\n",
    "from nltk.corpus import stopwords\n",
    "\n",
    "def text_process(mess):\n",
    "    \"\"\"\n",
    "    Takes in a string of text, then performs the following:\n",
    "    1. Remove all punctuation\n",
    "    2. Remove all stopwords\n",
    "    3. Returns a list of the cleaned text\n",
    "    \"\"\"\n",
    "    STOPWORDS = stopwords.words('english') + ['u', 'ü', 'ur', '4', '2', 'im', 'dont', 'doin', 'ure']\n",
    "    # Check characters to see if they are in punctuation\n",
    "    nopunc = [char for char in mess if char not in string.punctuation]\n",
    "\n",
    "    # Join the characters again to form the string.\n",
    "    nopunc = ''.join(nopunc)\n",
    "    \n",
    "    # Now just remove any stopwords\n",
    "    return ' '.join([word.lower() for word in nopunc.split() if word.lower() not in STOPWORDS])\n",
    "\n",
    "def preprocess(col):\n",
    "    clean = col.apply(text_process)\n",
    "    hashtags = col.apply(lambda x: [word.lower() for word in x.split() if word.startswith(\"#\")])\n",
    "    return clean.to_list(), hashtags.to_list()"
   ]
  },
  {
   "cell_type": "code",
   "execution_count": 21,
   "metadata": {
    "execution": {
     "iopub.execute_input": "2021-11-10T20:03:58.050090Z",
     "iopub.status.busy": "2021-11-10T20:03:58.049556Z",
     "iopub.status.idle": "2021-11-10T20:04:00.119457Z",
     "shell.execute_reply": "2021-11-10T20:04:00.118722Z",
     "shell.execute_reply.started": "2021-11-10T20:03:58.050054Z"
    }
   },
   "outputs": [],
   "source": [
    "train['clean'], train['hashtags']=preprocess(train.text)\n",
    "test['clean'], test['hashtags']=preprocess(test.text)"
   ]
  },
  {
   "cell_type": "code",
   "execution_count": 22,
   "metadata": {
    "execution": {
     "iopub.execute_input": "2021-11-10T20:04:00.120816Z",
     "iopub.status.busy": "2021-11-10T20:04:00.120565Z",
     "iopub.status.idle": "2021-11-10T20:04:00.139793Z",
     "shell.execute_reply": "2021-11-10T20:04:00.139028Z",
     "shell.execute_reply.started": "2021-11-10T20:04:00.120783Z"
    }
   },
   "outputs": [],
   "source": [
    "train.head()"
   ]
  },
  {
   "cell_type": "code",
   "execution_count": 23,
   "metadata": {
    "execution": {
     "iopub.execute_input": "2021-11-10T20:04:00.141261Z",
     "iopub.status.busy": "2021-11-10T20:04:00.140923Z",
     "iopub.status.idle": "2021-11-10T20:04:00.147333Z",
     "shell.execute_reply": "2021-11-10T20:04:00.146517Z",
     "shell.execute_reply.started": "2021-11-10T20:04:00.141226Z"
    }
   },
   "outputs": [],
   "source": [
    "type(train.clean)"
   ]
  },
  {
   "cell_type": "code",
   "execution_count": 24,
   "metadata": {
    "execution": {
     "iopub.execute_input": "2021-11-10T20:04:00.148936Z",
     "iopub.status.busy": "2021-11-10T20:04:00.148664Z",
     "iopub.status.idle": "2021-11-10T20:04:10.281547Z",
     "shell.execute_reply": "2021-11-10T20:04:10.280821Z",
     "shell.execute_reply.started": "2021-11-10T20:04:00.148901Z"
    }
   },
   "outputs": [],
   "source": [
    "from simpletransformers.classification import ClassificationModel, ClassificationArgs\n",
    "\n",
    "model = ClassificationModel('distilbert', 'distilbert-base-uncased-finetuned-sst-2-english')"
   ]
  },
  {
   "cell_type": "code",
   "execution_count": null,
   "metadata": {
    "execution": {
     "iopub.execute_input": "2021-10-28T17:22:53.348385Z",
     "iopub.status.busy": "2021-10-28T17:22:53.34808Z",
     "iopub.status.idle": "2021-10-28T17:22:53.360318Z",
     "shell.execute_reply": "2021-10-28T17:22:53.358799Z",
     "shell.execute_reply.started": "2021-10-28T17:22:53.348314Z"
    }
   },
   "outputs": [],
   "source": [
    "model.args"
   ]
  },
  {
   "cell_type": "code",
   "execution_count": 25,
   "metadata": {
    "execution": {
     "iopub.execute_input": "2021-11-10T20:04:10.283194Z",
     "iopub.status.busy": "2021-11-10T20:04:10.282926Z",
     "iopub.status.idle": "2021-11-10T20:04:10.287089Z",
     "shell.execute_reply": "2021-11-10T20:04:10.286432Z",
     "shell.execute_reply.started": "2021-11-10T20:04:10.283160Z"
    }
   },
   "outputs": [],
   "source": [
    "args = {'learning_rate': 4e-05,\n",
    "               'overwrite_output_dir': True, \n",
    "               'num_train_epochs': 10} "
   ]
  },
  {
   "cell_type": "code",
   "execution_count": 26,
   "metadata": {
    "execution": {
     "iopub.execute_input": "2021-11-10T20:04:10.289790Z",
     "iopub.status.busy": "2021-11-10T20:04:10.289323Z",
     "iopub.status.idle": "2021-11-10T20:04:10.305647Z",
     "shell.execute_reply": "2021-11-10T20:04:10.304955Z",
     "shell.execute_reply.started": "2021-11-10T20:04:10.289754Z"
    }
   },
   "outputs": [],
   "source": [
    "X_train, X_val, y_train, y_val = train_test_split(train['clean'], train['target'], test_size=0.2, random_state=42)\n",
    "train_data = pd.DataFrame({'clean':X_train, 'target':y_train})\n",
    "val_data = pd.DataFrame({'clean':X_val, 'target':y_val})\n",
    "print(train_data.head())"
   ]
  },
  {
   "cell_type": "code",
   "execution_count": 27,
   "metadata": {
    "execution": {
     "iopub.execute_input": "2021-11-10T20:04:10.307659Z",
     "iopub.status.busy": "2021-11-10T20:04:10.307023Z",
     "iopub.status.idle": "2021-11-10T20:15:59.495448Z",
     "shell.execute_reply": "2021-11-10T20:15:59.494663Z",
     "shell.execute_reply.started": "2021-11-10T20:04:10.307625Z"
    }
   },
   "outputs": [],
   "source": [
    "model = ClassificationModel('distilbert', 'distilbert-base-uncased-finetuned-sst-2-english', args=args)\n",
    "model.train_model(train_data)\n",
    "result, outputs, wrong_predictions = model.eval_model(val_data, acc=sklearn.metrics.accuracy_score)\n",
    "print(result['acc'])"
   ]
  },
  {
   "cell_type": "code",
   "execution_count": 32,
   "metadata": {
    "execution": {
     "iopub.execute_input": "2021-11-10T20:22:39.085845Z",
     "iopub.status.busy": "2021-11-10T20:22:39.085568Z",
     "iopub.status.idle": "2021-11-10T20:22:43.767797Z",
     "shell.execute_reply": "2021-11-10T20:22:43.766941Z",
     "shell.execute_reply.started": "2021-11-10T20:22:39.085806Z"
    }
   },
   "outputs": [],
   "source": [
    "predictions, raw_outputs = model.predict(X_val.to_list())"
   ]
  },
  {
   "cell_type": "code",
   "execution_count": null,
   "metadata": {
    "execution": {
     "iopub.status.busy": "2021-11-10T20:16:00.776150Z",
     "iopub.status.idle": "2021-11-10T20:16:00.776791Z",
     "shell.execute_reply": "2021-11-10T20:16:00.776574Z",
     "shell.execute_reply.started": "2021-11-10T20:16:00.776547Z"
    }
   },
   "outputs": [],
   "source": [
    "result"
   ]
  },
  {
   "cell_type": "code",
   "execution_count": 15,
   "metadata": {
    "execution": {
     "iopub.execute_input": "2021-11-10T20:00:27.974290Z",
     "iopub.status.busy": "2021-11-10T20:00:27.973772Z",
     "iopub.status.idle": "2021-11-10T20:00:27.983079Z",
     "shell.execute_reply": "2021-11-10T20:00:27.982259Z",
     "shell.execute_reply.started": "2021-11-10T20:00:27.974256Z"
    }
   },
   "outputs": [],
   "source": [
    "outputs"
   ]
  },
  {
   "cell_type": "code",
   "execution_count": 34,
   "metadata": {
    "execution": {
     "iopub.execute_input": "2021-11-10T20:24:03.781373Z",
     "iopub.status.busy": "2021-11-10T20:24:03.780827Z",
     "iopub.status.idle": "2021-11-10T20:24:03.785252Z",
     "shell.execute_reply": "2021-11-10T20:24:03.784462Z",
     "shell.execute_reply.started": "2021-11-10T20:24:03.781338Z"
    }
   },
   "outputs": [],
   "source": [
    "from sklearn.metrics import classification_report"
   ]
  },
  {
   "cell_type": "code",
   "execution_count": 35,
   "metadata": {
    "execution": {
     "iopub.execute_input": "2021-11-10T20:24:06.880150Z",
     "iopub.status.busy": "2021-11-10T20:24:06.879585Z",
     "iopub.status.idle": "2021-11-10T20:24:16.151626Z",
     "shell.execute_reply": "2021-11-10T20:24:16.150809Z",
     "shell.execute_reply.started": "2021-11-10T20:24:06.880111Z"
    }
   },
   "outputs": [],
   "source": [
    "from tqdm import tqdm\n",
    "thresholds = np.append(np.arange(1,0.9, -0.0001), np.arange(0.9,0, -0.001))\n",
    "\n",
    "precision_scores, recall_scores = list(), list()\n",
    "for threshold in tqdm(thresholds):\n",
    "    prob_preds = np.where(predictions>=threshold, 1, 0)\n",
    "    temp_classification_report = classification_report(y_true=y_val, y_pred=predictions, output_dict=True)['1']\n",
    "    precision = round(temp_classification_report['precision'], 3)\n",
    "    precision_scores.append(precision)                      \n",
    "    recall_scores.append(round(temp_classification_report['recall'], 3))\n",
    "\n",
    "l = [item for item in zip(precision_scores, recall_scores, list(thresholds)) if item[0] != 0]\n",
    "\n",
    "l1 = [i for i in zip(precision_scores, recall_scores, list(thresholds)) if i[0]==1]\n",
    "try:\n",
    "    print(\"Comp. questions: max Prec. {:.3f} with Rec. {:.3f} at thresh. {:.6f}\".format(l1[-1][0], l1[-1][1], l1[-1][2]))\n",
    "except:\n",
    "    print(\"Model doesn't reach precision of 1.00\")\n",
    "try:\n",
    "    l3 = [item for item in l if 0.95 < item[0] < 1]\n",
    "    print(\"Comp. questions: max Prec. {:.3f} with Rec. {:.3f} at thresh. {:.6f}\".format(l3[-1][0], l3[-1][1], l3[-1][2]))\n",
    "    print(\"F1: {:.3f}\".format(2*l3[-1][0]*l3[-1][1]/(l3[-1][0] + l3[-1][1])))\n",
    "except:\n",
    "    print(\"Model doesn't reach precision of 0.95\")\n",
    "try:\n",
    "    l2 = [item for item in l if 0.90 < item[0] < 1]\n",
    "    print(\"Comp. questions: max Prec. {:.3f} with Rec. {:.3f} at thresh. {:.6f}\".format(l2[-1][0], l2[-1][1], l2[-1][2]))\n",
    "    print(\"F1: {:.3f}\".format(2*l2[-1][0]*l2[-1][1]/(l2[-1][0] + l2[-1][1])))\n",
    "except:print(\"Model doesn't reach precision of 0.90\")"
   ]
  },
  {
   "cell_type": "markdown",
   "metadata": {},
   "source": [
    "# Try Logistic Regression"
   ]
  },
  {
   "cell_type": "code",
   "execution_count": 64,
   "metadata": {
    "execution": {
     "iopub.execute_input": "2021-11-10T21:18:39.408091Z",
     "iopub.status.busy": "2021-11-10T21:18:39.407793Z",
     "iopub.status.idle": "2021-11-10T21:18:43.820163Z",
     "shell.execute_reply": "2021-11-10T21:18:43.819392Z",
     "shell.execute_reply.started": "2021-11-10T21:18:39.408061Z"
    }
   },
   "outputs": [],
   "source": [
    "# gradient boosting for classification in scikit-learn\n",
    "from numpy import mean\n",
    "from numpy import std\n",
    "from sklearn.model_selection import cross_val_score\n",
    "from sklearn.model_selection import RepeatedStratifiedKFold\n",
    "\n",
    "\n",
    "from sklearn.feature_extraction.text import CountVectorizer\n",
    "from sklearn.linear_model import LogisticRegression\n",
    "from sklearn.pipeline import Pipeline\n",
    "\n",
    "model = LogisticRegression()\n",
    "preprocessor = CountVectorizer()\n",
    "my_pipeline = Pipeline(steps=[('preprocessor', preprocessor),\n",
    "                              ('model', model)\n",
    "                             ])\n",
    "\n",
    "# Preprocessing of training data, fit model \n",
    "my_pipeline.fit(X_train, y_train)\n",
    "\n",
    "# evaluate the model\n",
    "cv = RepeatedStratifiedKFold(n_splits=10, n_repeats=3, random_state=1)\n",
    "X_train_vec = preprocessor.fit_transform(X_train.to_list())\n",
    "n_scores = cross_val_score(model, X_train_vec, y_train, scoring='accuracy', cv=cv, n_jobs=-1, error_score='raise')\n",
    "print('Accuracy: %.3f (%.3f)' % (mean(n_scores), std(n_scores)))\n",
    "\n",
    "# Preprocessing of validation data, get predictions\n",
    "predictions = my_pipeline.predict_proba(X_val.to_list())\n",
    "y_pred = my_pipeline.predict(X_val.to_list())"
   ]
  },
  {
   "cell_type": "code",
   "execution_count": 65,
   "metadata": {
    "execution": {
     "iopub.execute_input": "2021-11-10T21:18:43.822151Z",
     "iopub.status.busy": "2021-11-10T21:18:43.821712Z",
     "iopub.status.idle": "2021-11-10T21:18:43.826437Z",
     "shell.execute_reply": "2021-11-10T21:18:43.825577Z",
     "shell.execute_reply.started": "2021-11-10T21:18:43.822115Z"
    }
   },
   "outputs": [],
   "source": [
    "pred_prob = list(predictions[:,1])"
   ]
  },
  {
   "cell_type": "code",
   "execution_count": 57,
   "metadata": {
    "execution": {
     "iopub.execute_input": "2021-11-10T21:14:24.987782Z",
     "iopub.status.busy": "2021-11-10T21:14:24.987108Z",
     "iopub.status.idle": "2021-11-10T21:14:24.993735Z",
     "shell.execute_reply": "2021-11-10T21:14:24.993059Z",
     "shell.execute_reply.started": "2021-11-10T21:14:24.987745Z"
    }
   },
   "outputs": [],
   "source": [
    "model.classes_"
   ]
  },
  {
   "cell_type": "code",
   "execution_count": 66,
   "metadata": {
    "execution": {
     "iopub.execute_input": "2021-11-10T21:18:58.211033Z",
     "iopub.status.busy": "2021-11-10T21:18:58.210754Z",
     "iopub.status.idle": "2021-11-10T21:19:07.618251Z",
     "shell.execute_reply": "2021-11-10T21:19:07.616363Z",
     "shell.execute_reply.started": "2021-11-10T21:18:58.210984Z"
    }
   },
   "outputs": [],
   "source": [
    "thresholds = np.append(np.arange(1,0.9, -0.0001), np.arange(0.9,0, -0.001))\n",
    "\n",
    "precision_scores, recall_scores = list(), list()\n",
    "for threshold in tqdm(thresholds):\n",
    "    prob_preds = np.where(pred_prob>=threshold, 1, 0)\n",
    "    temp_classification_report = classification_report(y_true=y_val, y_pred=y_pred, output_dict=True)['1']\n",
    "    precision = round(temp_classification_report['precision'], 3)\n",
    "    precision_scores.append(precision)                      \n",
    "    recall_scores.append(round(temp_classification_report['recall'], 3))\n",
    "    \n",
    "l = [item for item in zip(precision_scores, recall_scores, list(thresholds)) if item[0] != 0]\n",
    "l1 = [i for i in zip(precision_scores, recall_scores, list(thresholds)) if i[0]==1]\n",
    "try:\n",
    "    print(\"Comp. questions: max Prec. {:.3f} with Rec. {:.3f} at thresh. {:.6f}\".format(l1[-1][0], l1[-1][1], l1[-1][2]))\n",
    "except:\n",
    "    print(\"Model doesn't reach precision of 1.00\")\n",
    "try:\n",
    "    l3 = [item for item in l if 0.95 < item[0] < 1]\n",
    "    print(\"Comp. questions: max Prec. {:.3f} with Rec. {:.3f} at thresh. {:.6f}\".format(l3[-1][0], l3[-1][1], l3[-1][2]))\n",
    "    print(\"F1: {:.3f}\".format(2*l3[-1][0]*l3[-1][1]/(l3[-1][0] + l3[-1][1])))\n",
    "except:\n",
    "    print(\"Model doesn't reach precision of 0.95\")\n",
    "try:\n",
    "    l2 = [item for item in l if 0.90 < item[0] < 1]\n",
    "    print(\"Comp. questions: max Prec. {:.3f} with Rec. {:.3f} at thresh. {:.6f}\".format(l2[-1][0], l2[-1][1], l2[-1][2]))\n",
    "    print(\"F1: {:.3f}\".format(2*l2[-1][0]*l2[-1][1]/(l2[-1][0] + l2[-1][1])))\n",
    "except:print(\"Model doesn't reach precision of 0.90\")"
   ]
  },
  {
   "cell_type": "markdown",
   "metadata": {},
   "source": [
    "# Try LightGBM"
   ]
  },
  {
   "cell_type": "code",
   "execution_count": 67,
   "metadata": {
    "execution": {
     "iopub.execute_input": "2021-11-10T21:22:43.851732Z",
     "iopub.status.busy": "2021-11-10T21:22:43.851445Z",
     "iopub.status.idle": "2021-11-10T21:27:21.247581Z",
     "shell.execute_reply": "2021-11-10T21:27:21.246843Z",
     "shell.execute_reply.started": "2021-11-10T21:22:43.851703Z"
    }
   },
   "outputs": [],
   "source": [
    "# gradient boosting for classification in scikit-learn\n",
    "from numpy import mean\n",
    "from numpy import std\n",
    "from sklearn.model_selection import cross_val_score\n",
    "from sklearn.model_selection import RepeatedStratifiedKFold\n",
    "\n",
    "\n",
    "from sklearn.feature_extraction.text import CountVectorizer\n",
    "from sklearn.ensemble import GradientBoostingClassifier\n",
    "from sklearn.pipeline import Pipeline\n",
    "\n",
    "model = GradientBoostingClassifier()\n",
    "preprocessor = CountVectorizer()\n",
    "my_pipeline = Pipeline(steps=[('preprocessor', preprocessor),\n",
    "                              ('model', model)\n",
    "                             ])\n",
    "\n",
    "# Preprocessing of training data, fit model \n",
    "my_pipeline.fit(X_train, y_train)\n",
    "\n",
    "# evaluate the model\n",
    "cv = RepeatedStratifiedKFold(n_splits=10, n_repeats=3, random_state=1)\n",
    "X_train_vec = preprocessor.fit_transform(X_train.to_list())\n",
    "n_scores = cross_val_score(model, X_train_vec, y_train, scoring='accuracy', cv=cv, n_jobs=-1, error_score='raise')\n",
    "print('Accuracy: %.3f (%.3f)' % (mean(n_scores), std(n_scores)))\n",
    "\n",
    "# Preprocessing of validation data, get predictions\n",
    "predictions = my_pipeline.predict_proba(X_val.to_list())\n",
    "y_pred = my_pipeline.predict(X_val.to_list())\n",
    "pred_prob = list(predictions[:,1])"
   ]
  },
  {
   "cell_type": "code",
   "execution_count": 68,
   "metadata": {
    "execution": {
     "iopub.execute_input": "2021-11-10T21:27:21.250143Z",
     "iopub.status.busy": "2021-11-10T21:27:21.249061Z",
     "iopub.status.idle": "2021-11-10T21:27:30.823898Z",
     "shell.execute_reply": "2021-11-10T21:27:30.823108Z",
     "shell.execute_reply.started": "2021-11-10T21:27:21.250103Z"
    }
   },
   "outputs": [],
   "source": [
    "thresholds = np.append(np.arange(1,0.9, -0.0001), np.arange(0.9,0, -0.001))\n",
    "\n",
    "precision_scores, recall_scores = list(), list()\n",
    "for threshold in tqdm(thresholds):\n",
    "    prob_preds = np.where(pred_prob>=threshold, 1, 0)\n",
    "    temp_classification_report = classification_report(y_true=y_val, y_pred=y_pred, output_dict=True)['1']\n",
    "    precision = round(temp_classification_report['precision'], 3)\n",
    "    precision_scores.append(precision)                      \n",
    "    recall_scores.append(round(temp_classification_report['recall'], 3))\n",
    "    \n",
    "l = [item for item in zip(precision_scores, recall_scores, list(thresholds)) if item[0] != 0]\n",
    "l1 = [i for i in zip(precision_scores, recall_scores, list(thresholds)) if i[0]==1]\n",
    "try:\n",
    "    print(\"Comp. questions: max Prec. {:.3f} with Rec. {:.3f} at thresh. {:.6f}\".format(l1[-1][0], l1[-1][1], l1[-1][2]))\n",
    "except:\n",
    "    print(\"Model doesn't reach precision of 1.00\")\n",
    "try:\n",
    "    l3 = [item for item in l if 0.95 < item[0] < 1]\n",
    "    print(\"Comp. questions: max Prec. {:.3f} with Rec. {:.3f} at thresh. {:.6f}\".format(l3[-1][0], l3[-1][1], l3[-1][2]))\n",
    "    print(\"F1: {:.3f}\".format(2*l3[-1][0]*l3[-1][1]/(l3[-1][0] + l3[-1][1])))\n",
    "except:\n",
    "    print(\"Model doesn't reach precision of 0.95\")\n",
    "try:\n",
    "    l2 = [item for item in l if 0.90 < item[0] < 1]\n",
    "    print(\"Comp. questions: max Prec. {:.3f} with Rec. {:.3f} at thresh. {:.6f}\".format(l2[-1][0], l2[-1][1], l2[-1][2]))\n",
    "    print(\"F1: {:.3f}\".format(2*l2[-1][0]*l2[-1][1]/(l2[-1][0] + l2[-1][1])))\n",
    "except:print(\"Model doesn't reach precision of 0.90\")"
   ]
  }
 ],
 "metadata": {
  "kernelspec": {
   "display_name": "Python 3",
   "language": "python",
   "name": "python3"
  },
  "language_info": {
   "codemirror_mode": {
    "name": "ipython",
    "version": 3
   },
   "file_extension": ".py",
   "mimetype": "text/x-python",
   "name": "python",
   "nbconvert_exporter": "python",
   "pygments_lexer": "ipython3",
   "version": "3.7.3"
  }
 },
 "nbformat": 4,
 "nbformat_minor": 4
}
